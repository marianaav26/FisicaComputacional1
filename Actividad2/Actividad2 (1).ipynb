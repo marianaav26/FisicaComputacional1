{
  "nbformat": 4,
  "nbformat_minor": 0,
  "metadata": {
    "colab": {
      "name": "Actividad2.ipynb",
      "provenance": []
    },
    "kernelspec": {
      "name": "python3",
      "display_name": "Python 3"
    }
  },
  "cells": [
    {
      "cell_type": "code",
      "metadata": {
        "colab": {
          "base_uri": "https://localhost:8080/"
        },
        "id": "EGB8E7P4Ps4-",
        "outputId": "c6fcbcf1-5a26-4d14-d19e-c6a394aca0a4"
      },
      "source": [
        "import numpy as np\n",
        "def area(x,y):\n",
        "  return x*y\n",
        "\n",
        "print (\"Proporciona el largo y altura del rectangulo\", end=\"\")\n",
        "l = float(input())\n",
        "w = float(input())\n",
        "a = area(l, w)\n",
        "# Imprime el valor del área en formato libre.\n",
        "print(\"\\nArea = \", a)\n",
        "# Imprime el valor del área con 2 decimales. \n",
        "print(\"\\nArea = {:.2f}\".format(a))"
      ],
      "execution_count": null,
      "outputs": [
        {
          "output_type": "stream",
          "text": [
            "Proporciona el largo y altura del rectangulo4.0\n",
            "5.0\n",
            "\n",
            "Area =  20.0\n",
            "\n",
            "Area = 20.00\n"
          ],
          "name": "stdout"
        }
      ]
    },
    {
      "cell_type": "code",
      "metadata": {
        "colab": {
          "base_uri": "https://localhost:8080/"
        },
        "id": "6zthEogDRLJ4",
        "outputId": "dc270b8e-1758-45a3-9aff-5d382dab6892"
      },
      "source": [
        "#ejercicio 1, calculo del area de un circulo \n",
        "import numpy as np\n",
        "def areaC(r):\n",
        "  return np.pi*r**2 \n",
        "\n",
        "print(\"Ingrese el radio del circulo: \", end=\"\")\n",
        "d= float(input())\n",
        "a= areaC(d)\n",
        "print(\"\\nArea = \", a)"
      ],
      "execution_count": null,
      "outputs": [
        {
          "output_type": "stream",
          "text": [
            "Ingrese el radio del circulo: 5.0\n",
            "\n",
            "Area =  78.53981633974483\n"
          ],
          "name": "stdout"
        }
      ]
    },
    {
      "cell_type": "code",
      "metadata": {
        "colab": {
          "base_uri": "https://localhost:8080/"
        },
        "id": "LMTWiTMDTqN_",
        "outputId": "515dd5a5-e32f-430a-8e6c-e0a00dbcb3ab"
      },
      "source": [
        "#ejercicio 1, calculo del area de una elipse\n",
        "import numpy as np\n",
        "def areaE(a,b):\n",
        "  return a*b*np.pi\n",
        "\n",
        "print(\"Ingrese el radio menor \", end=\"\")\n",
        "m= float(input())\n",
        "print(\"Ingrese el radio mayor \", end=\"\")\n",
        "n= float(input())\n",
        "a= areaE(m,n)\n",
        "print(\"\\nArea = \", a)"
      ],
      "execution_count": null,
      "outputs": [
        {
          "output_type": "stream",
          "text": [
            "Ingrese el radio menor 3\n",
            "Ingrese el radio mayor 4\n",
            "\n",
            "Area =  37.69911184307752\n"
          ],
          "name": "stdout"
        }
      ]
    },
    {
      "cell_type": "code",
      "metadata": {
        "colab": {
          "base_uri": "https://localhost:8080/"
        },
        "id": "IW-_OrqwV0Xy",
        "outputId": "a7c60b66-17ee-48fa-f80b-6d9c4c8d3d0f"
      },
      "source": [
        "#ejercicio 1, calculo del volumen de una esfera \n",
        "import numpy as np\n",
        "def volE(r):\n",
        "  return 4/3*np.pi*r**3\n",
        "\n",
        "print(\"Ingrese el radio de la esfera\", end=\"\")\n",
        "d= float(input())\n",
        "v= volE(d)\n",
        "print(\"\\nEl volumen de la esfera es: \", v)"
      ],
      "execution_count": null,
      "outputs": [
        {
          "output_type": "stream",
          "text": [
            "Ingrese el radio de la esfera5.0\n",
            "\n",
            "El volumen de la esfera es:  523.5987755982989\n"
          ],
          "name": "stdout"
        }
      ]
    },
    {
      "cell_type": "code",
      "metadata": {
        "colab": {
          "base_uri": "https://localhost:8080/"
        },
        "id": "sYBAq6v_XMat",
        "outputId": "4cb7494c-5717-4a5c-aeee-d1f32b68c3f2"
      },
      "source": [
        "#ejercicio 1, calculo del volumen de un cilindro\n",
        "import numpy as np\n",
        "def volC(r,h):\n",
        "  return np.pi*r**2*h\n",
        "\n",
        "print(\"Ingrese el radio del cilindro \", end=\"\")\n",
        "d=float(input())\n",
        "print(\"Ingrese la altura del cilindro \", end=\"\")\n",
        "l=float(input())\n",
        "v= volC(d,l)\n",
        "print(\"\\nEl volumen del cilindro es: \", v)"
      ],
      "execution_count": null,
      "outputs": [
        {
          "output_type": "stream",
          "text": [
            "Ingrese el radio del cilindro 3.0\n",
            "Ingrese la altura del cilindro 6.0\n",
            "\n",
            "El volumen del cilindro es:  169.64600329384882\n"
          ],
          "name": "stdout"
        }
      ]
    },
    {
      "cell_type": "code",
      "metadata": {
        "colab": {
          "base_uri": "https://localhost:8080/"
        },
        "id": "znfAMQygZP7C",
        "outputId": "6f348460-645a-4f7b-886c-1914c36878cf"
      },
      "source": [
        "#Ejercicio 2, calculo de las raices de una ecuacion cuadratica\n",
        "import numpy as np\n",
        "def dis(a,b,c):\n",
        "  d= b**2-4*a*c\n",
        "  return d\n",
        "\n",
        "def sol(a,b):\n",
        "  x_1= (-b + np.sqrt(dis(a,b,c)))/(2*a)\n",
        "  x_2= (-b - np.sqrt(dis(a,b,c)))/(2*a)\n",
        "  return x_1, x_2\n",
        "\n",
        "print(\"Ingrese a,b y c en ese orden \", end=\"\")\n",
        "a= float(input())\n",
        "b= float(input())\n",
        "c= float(input())\n",
        "\n",
        "if dis(a,b,c) > 0 :\n",
        "    print(\"Las soluciones son: \", end=\"\\n\")\n",
        "    print(\"\", sol(a,b)) \n",
        "else:\n",
        "    print(\"No hay soluciones reales\")   \n",
        "    "
      ],
      "execution_count": null,
      "outputs": [
        {
          "output_type": "stream",
          "text": [
            "Ingrese a,b y c en ese orden 1\n",
            "4\n",
            "2\n",
            "Las soluciones son: \n",
            " (-0.5857864376269049, -3.414213562373095)\n"
          ],
          "name": "stdout"
        }
      ]
    },
    {
      "cell_type": "code",
      "metadata": {
        "id": "oCz1z0IJiAen",
        "colab": {
          "base_uri": "https://localhost:8080/"
        },
        "outputId": "79f0f5da-7c8e-4222-a12f-e2117566902e"
      },
      "source": [
        "#Ejercicio 3, calculo de una raiz \n",
        "import numpy as np\n",
        "#Utilizamos esta funcion para definir un contador i, y el error e \n",
        "#dandoles valores iniciales para poder iterar con ellos\n",
        "def raiz(x):\n",
        "  i = 1\n",
        "  e = 1\n",
        "  #utilizamos while para poder parar la iteracion cuando el error sea de 0.01\n",
        "  #y usamos la def del metodo para calcular la raiz \n",
        "  while (e>0.01):\n",
        "    h = (i+ (x/i))/2\n",
        "    e = abs((np.sqrt(x)-h)/np.sqrt(x))\n",
        "    i=h \n",
        "  return h \n",
        "\n",
        "#Se ingresan los datos a utilizar \n",
        "print(\"Ingrese el numero al cual se le calculara la raiz cuadrada\")\n",
        "s= float(input())\n",
        "\n",
        "#Muestra resultados en pantalla \n",
        "print(\"La raiz aproximada es\", raiz(s))\n",
        "print(\"La raiz real es \", np.sqrt(s))\n"
      ],
      "execution_count": null,
      "outputs": [
        {
          "output_type": "stream",
          "text": [
            "Ingrese el numero al cual se le calculara la raiz cuadrada\n",
            "25\n",
            "La raiz aproximada es 5.015247601944898\n",
            "La raiz real es  5.0\n"
          ],
          "name": "stdout"
        }
      ]
    },
    {
      "cell_type": "code",
      "metadata": {
        "id": "whm5SDP5LMJE",
        "colab": {
          "base_uri": "https://localhost:8080/",
          "height": 295
        },
        "outputId": "c3e8ec90-5b19-4ab9-d1a9-84d062f0dc4b"
      },
      "source": [
        "#Ejercicio 4\n",
        "import matplotlib.pyplot as plt\n",
        "import numpy as np \n",
        "\n",
        "x = np.linspace(-1.5,1.5,100)\n",
        "\n",
        "y = np.log(abs(1+x))\n",
        "\n",
        "y4 = x- (1/2)*x**2 + (1/3)*x**3 - (1/4)*x**4\n",
        "y7 = y4+ (1/5)*x**5 - (1/6)*x**6 + (1/7)*x**7 \n",
        "y11 = y7 - (1/8)*x**8 + (1/9)*x**9 - (1/10)*x**14 + (1/15)*x**15 - (1/16)*x**16\n",
        "y16 = y11 - (1/12)*x**12 + (1/13)*x**13 - (1/14)*x**14 + (1/15)*x**15 - (1/16)*x**16\n",
        "\n",
        "plt.subplot(111)\n",
        "plt.xlabel(\"x label\")\n",
        "plt.ylabel(\"y label\")\n",
        "plt.title(\"Gráfica ejercicio 4 actividad 2\")\n",
        "\n",
        "plt.plot(x,y, label=\"ln(1+x)\")\n",
        "plt.plot(x,y4, label='T4 ')\n",
        "plt.plot(x,y7, label='T7')\n",
        "plt.plot(x,y11, label='T11')\n",
        "plt.plot(x,y16, label='T16')\n",
        "\n",
        "plt.grid(True)\n",
        "plt.ylim(-4,4)\n",
        "plt.legend(loc=\"upper left\")\n",
        "\n",
        "plt.show()"
      ],
      "execution_count": 5,
      "outputs": [
        {
          "output_type": "display_data",
          "data": {
            "image/png": "[encoded data removed]",
            "text/plain": [
              "<Figure size 432x288 with 1 Axes>"
            ]
          },
          "metadata": {
            "tags": [],
            "needs_background": "light"
          }
        }
      ]
    },
    {
      "cell_type": "code",
      "metadata": {
        "id": "F4GmBKFlOufz"
      },
      "source": [
        ""
      ],
      "execution_count": null,
      "outputs": []
    }
  ]
}