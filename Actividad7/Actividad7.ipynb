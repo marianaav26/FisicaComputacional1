{
  "nbformat": 4,
  "nbformat_minor": 0,
  "metadata": {
    "colab": {
      "name": "Actividad7.ipynb",
      "provenance": []
    },
    "kernelspec": {
      "name": "python3",
      "display_name": "Python 3"
    },
    "language_info": {
      "name": "python"
    }
  },
  "cells": [
    {
      "cell_type": "code",
      "metadata": {
        "id": "DGixnZT4ahFJ"
      },
      "source": [
        "import numpy as np \n",
        "import scipy.linalg as la\n",
        "from numpy.linalg import matrix_power as mpow\n",
        "import matplotlib.pyplot as plt"
      ],
      "execution_count": 18,
      "outputs": []
    },
    {
      "cell_type": "markdown",
      "metadata": {
        "id": "ehEVYjjAczWm"
      },
      "source": [
        "# Ejercicio 1"
      ]
    },
    {
      "cell_type": "code",
      "metadata": {
        "colab": {
          "base_uri": "https://localhost:8080/"
        },
        "id": "31kWqgcBaxBC",
        "outputId": "22fa7c76-262a-40dd-fccd-1884ab3e5f6b"
      },
      "source": [
        "#Se crean los arreglos \n",
        "A = np.array([[1,3],[-1,7]])\n",
        "B = np.array([[5,2],[1,2]])\n",
        "I = np.array([[1,0],[0,1]])\n",
        "\n",
        "#Imprimimos en pantalla para saber si fueron ingresadas correctamente\n",
        "print(A)\n",
        "print(B)\n",
        "print(I)"
      ],
      "execution_count": 19,
      "outputs": [
        {
          "output_type": "stream",
          "text": [
            "[[ 1  3]\n",
            " [-1  7]]\n",
            "[[5 2]\n",
            " [1 2]]\n",
            "[[1 0]\n",
            " [0 1]]\n"
          ],
          "name": "stdout"
        }
      ]
    },
    {
      "cell_type": "code",
      "metadata": {
        "colab": {
          "base_uri": "https://localhost:8080/"
        },
        "id": "hSFSZvCHaz-z",
        "outputId": "4a136c96-7fe1-4ac5-cc4c-d0d2088fb802"
      },
      "source": [
        "\n",
        "#Calculamos el resultado de 2*I+3*A+A@B\n",
        "2*I + 3*A + A@B "
      ],
      "execution_count": 20,
      "outputs": [
        {
          "output_type": "execute_result",
          "data": {
            "text/plain": [
              "array([[13, 17],\n",
              "       [-1, 35]])"
            ]
          },
          "metadata": {
            "tags": []
          },
          "execution_count": 20
        }
      ]
    },
    {
      "cell_type": "markdown",
      "metadata": {
        "id": "Bm0A_rdId21t"
      },
      "source": [
        "# Ejercicio 2"
      ]
    },
    {
      "cell_type": "code",
      "metadata": {
        "colab": {
          "base_uri": "https://localhost:8080/"
        },
        "id": "t0cb3dy9a525",
        "outputId": "3cf1088c-6c77-451b-d5e6-9a7eee032fbe"
      },
      "source": [
        "N = np.random.randint(0,10,[2,2])\n",
        "print(N)\n",
        "I = np.array([[1,0],[0,1]])"
      ],
      "execution_count": 21,
      "outputs": [
        {
          "output_type": "stream",
          "text": [
            "[[7 1]\n",
            " [9 4]]\n"
          ],
          "name": "stdout"
        }
      ]
    },
    {
      "cell_type": "code",
      "metadata": {
        "colab": {
          "base_uri": "https://localhost:8080/"
        },
        "id": "RRv0dkRna8Q7",
        "outputId": "7ed95d4b-270e-48b8-df18-e7e8143b6e38"
      },
      "source": [
        "N@N - (np.trace(N))*N + (la.det(N))*I"
      ],
      "execution_count": 22,
      "outputs": [
        {
          "output_type": "execute_result",
          "data": {
            "text/plain": [
              "array([[0., 0.],\n",
              "       [0., 0.]])"
            ]
          },
          "metadata": {
            "tags": []
          },
          "execution_count": 22
        }
      ]
    },
    {
      "cell_type": "markdown",
      "metadata": {
        "id": "WEHs-Zm3enu5"
      },
      "source": [
        "# Ejercicio 3"
      ]
    },
    {
      "cell_type": "code",
      "metadata": {
        "id": "ERBGNesCa-Y_"
      },
      "source": [
        "def switch_rows(A,i,j):\n",
        "  'Intercambiar renglones i y j en la matriz A.'\n",
        "  n = A.shape[0]\n",
        "  E = np.eye(n)\n",
        "  E[i,i] = 0\n",
        "  E[j,j] = 0\n",
        "  E[i,j] = 1\n",
        "  E[j,i] = 1\n",
        "  return E @ A\n",
        "\n",
        "#Multiplicar un renglón por una cte.\n",
        "def scale_row(A,k,i):\n",
        "  'Multiplicar el renglón i por k en la matriz A.'\n",
        "  n = A.shape[0]\n",
        "  E = np.eye(n)\n",
        "  E[i,i] = k\n",
        "  return E @ A\n",
        "\n",
        "#Sumar un múltiplo de un renglón a otro renglón.\n",
        "def add_row(A,k,i,j):\n",
        "  'Sumar k veces el renglón j al renglón i en la matriz A.'\n",
        "  n = A.shape[0]\n",
        "  E = np.eye(n)\n",
        "  if i == j:\n",
        "    E[i,i] = k + 1\n",
        "  else:\n",
        "      E[i,j] = k\n",
        "  return E @ A"
      ],
      "execution_count": 23,
      "outputs": []
    },
    {
      "cell_type": "code",
      "metadata": {
        "colab": {
          "base_uri": "https://localhost:8080/"
        },
        "id": "H_jehwSLbElg",
        "outputId": "3d570109-a4a8-4c53-bd44-d2484b060d83"
      },
      "source": [
        "S = np.array([[1,-3,1],[3,-4,1],[0,2,-1]])\n",
        "print(S)"
      ],
      "execution_count": 24,
      "outputs": [
        {
          "output_type": "stream",
          "text": [
            "[[ 1 -3  1]\n",
            " [ 3 -4  1]\n",
            " [ 0  2 -1]]\n"
          ],
          "name": "stdout"
        }
      ]
    },
    {
      "cell_type": "code",
      "metadata": {
        "colab": {
          "base_uri": "https://localhost:8080/"
        },
        "id": "oNn6v5EDbTuC",
        "outputId": "0a315f35-9243-4f8d-eac8-19c6191d9d4b"
      },
      "source": [
        "S1 = np.hstack([S,np.eye(3)])\n",
        "print(S1)"
      ],
      "execution_count": 25,
      "outputs": [
        {
          "output_type": "stream",
          "text": [
            "[[ 1. -3.  1.  1.  0.  0.]\n",
            " [ 3. -4.  1.  0.  1.  0.]\n",
            " [ 0.  2. -1.  0.  0.  1.]]\n"
          ],
          "name": "stdout"
        }
      ]
    },
    {
      "cell_type": "code",
      "metadata": {
        "colab": {
          "base_uri": "https://localhost:8080/"
        },
        "id": "l0AmgB7HbWkU",
        "outputId": "57dfb5e2-6f7e-4b1f-8539-39781307b43d"
      },
      "source": [
        "S2 = add_row(S1,-3,1,0)\n",
        "print(S2)"
      ],
      "execution_count": 26,
      "outputs": [
        {
          "output_type": "stream",
          "text": [
            "[[ 1. -3.  1.  1.  0.  0.]\n",
            " [ 0.  5. -2. -3.  1.  0.]\n",
            " [ 0.  2. -1.  0.  0.  1.]]\n"
          ],
          "name": "stdout"
        }
      ]
    },
    {
      "cell_type": "code",
      "metadata": {
        "colab": {
          "base_uri": "https://localhost:8080/"
        },
        "id": "UOAGTqTYbZEB",
        "outputId": "69905220-bd99-4147-e4f5-96b4463745c1"
      },
      "source": [
        "S3_temp = add_row(S2, -2/5, 2, 1)\n",
        "\n",
        "S3 = scale_row(S3_temp, 3/5, 1)\n",
        "S3 = add_row(S3,1,0,1)\n",
        "print(S3)"
      ],
      "execution_count": 28,
      "outputs": [
        {
          "output_type": "stream",
          "text": [
            "[[ 1.   0.  -0.2 -0.8  0.6  0. ]\n",
            " [ 0.   3.  -1.2 -1.8  0.6  0. ]\n",
            " [ 0.   0.  -0.2  1.2 -0.4  1. ]]\n"
          ],
          "name": "stdout"
        }
      ]
    },
    {
      "cell_type": "code",
      "metadata": {
        "colab": {
          "base_uri": "https://localhost:8080/"
        },
        "id": "P6vUz0JgbbMe",
        "outputId": "1c20683e-b6c4-45ca-f85c-7fdedc027d83"
      },
      "source": [
        "\n",
        "S4_temp1 = scale_row(S3,-5,2)\n",
        "\n",
        "S4_temp2 = scale_row(S4_temp1,-1/1.2,1)\n",
        "\n",
        "S4_temp3 = add_row(S4_temp2, 0.4, 1, 2)\n",
        "\n",
        "S4_temp3 = add_row(S4_temp2, 0.2, 0, 2)\n",
        "\n",
        "S4_temp3 = add_row(S4_temp3, -1, 1, 2)\n",
        "\n",
        "S4 = scale_row(S4_temp3, -1/2.5, 1)\n",
        "print(np.round(S4, 2))"
      ],
      "execution_count": 30,
      "outputs": [
        {
          "output_type": "stream",
          "text": [
            "[[ 1.  0.  0. -2.  1. -1.]\n",
            " [ 0.  1. -0. -3.  1. -2.]\n",
            " [ 0.  0.  1. -6.  2. -5.]]\n"
          ],
          "name": "stdout"
        }
      ]
    },
    {
      "cell_type": "code",
      "metadata": {
        "colab": {
          "base_uri": "https://localhost:8080/"
        },
        "id": "Irg63kGkbe20",
        "outputId": "52c44c4f-ef6c-41f8-81b1-c24a4e9740b0"
      },
      "source": [
        "Sinv = S3[:,3:]\n",
        "print(Sinv)"
      ],
      "execution_count": 32,
      "outputs": [
        {
          "output_type": "stream",
          "text": [
            "[[-0.8  0.6  0. ]\n",
            " [-1.8  0.6  0. ]\n",
            " [ 1.2 -0.4  1. ]]\n"
          ],
          "name": "stdout"
        }
      ]
    },
    {
      "cell_type": "code",
      "metadata": {
        "colab": {
          "base_uri": "https://localhost:8080/"
        },
        "id": "yifywV6xbjGN",
        "outputId": "eb39af2a-3abc-4d0a-dab9-d121b06759f3"
      },
      "source": [
        "R = np.array([1,5,0])\n",
        "\n",
        "print(np.round(Minv @ R))"
      ],
      "execution_count": 33,
      "outputs": [
        {
          "output_type": "stream",
          "text": [
            "[ 2.  1. -1.]\n"
          ],
          "name": "stdout"
        }
      ]
    },
    {
      "cell_type": "code",
      "metadata": {
        "colab": {
          "base_uri": "https://localhost:8080/"
        },
        "id": "IeGxa3RKbmBx",
        "outputId": "719af05d-51ff-4b8b-fbd5-98f779482995"
      },
      "source": [
        "solv = la.solve(S,R)\n",
        "print(solv)"
      ],
      "execution_count": 34,
      "outputs": [
        {
          "output_type": "stream",
          "text": [
            "[3. 2. 4.]\n"
          ],
          "name": "stdout"
        }
      ]
    },
    {
      "cell_type": "markdown",
      "metadata": {
        "id": "QssmDDLZi6PD"
      },
      "source": [
        "# Ejercicio 3"
      ]
    },
    {
      "cell_type": "code",
      "metadata": {
        "colab": {
          "base_uri": "https://localhost:8080/"
        },
        "id": "wJzDm_qKbooV",
        "outputId": "1cec9d26-5bb1-4355-d3d1-877742bd786d"
      },
      "source": [
        "B1 = np.array([[2,0,0],[0,3,4],[0,4,9]])\n",
        "B2 = np.array([[0,1,0],[0,0,1],[1,0,0]])\n",
        "B3 = np.array([[2,0,0,0],[1,2,0,0],[0,1,3,0],[0,0,1,3]])\n",
        "print(B1)\n",
        "\n",
        "print(B2)\n",
        "\n",
        "print(B3)"
      ],
      "execution_count": 35,
      "outputs": [
        {
          "output_type": "stream",
          "text": [
            "[[2 0 0]\n",
            " [0 3 4]\n",
            " [0 4 9]]\n",
            "[[0 1 0]\n",
            " [0 0 1]\n",
            " [1 0 0]]\n",
            "[[2 0 0 0]\n",
            " [1 2 0 0]\n",
            " [0 1 3 0]\n",
            " [0 0 1 3]]\n"
          ],
          "name": "stdout"
        }
      ]
    },
    {
      "cell_type": "code",
      "metadata": {
        "colab": {
          "base_uri": "https://localhost:8080/"
        },
        "id": "r-ehta8abu7R",
        "outputId": "9256cf41-b5c3-4d34-9a61-3b83ca1aba0c"
      },
      "source": [
        "eigvals1, eigvecs1 = la.eig(B1)\n",
        "print('Eigenvalores B1')\n",
        "print(np.round(eigvals1,2))\n",
        "print('Eigenvectores B1')\n",
        "print(np.round(eigvecs1,2))\n",
        "\n"
      ],
      "execution_count": 37,
      "outputs": [
        {
          "output_type": "stream",
          "text": [
            "Eigenvalores B1\n",
            "[11.+0.j  1.+0.j  2.+0.j]\n",
            "Eigenvectores B1\n",
            "[[ 0.    0.    1.  ]\n",
            " [ 0.45  0.89  0.  ]\n",
            " [ 0.89 -0.45  0.  ]]\n"
          ],
          "name": "stdout"
        }
      ]
    },
    {
      "cell_type": "code",
      "metadata": {
        "colab": {
          "base_uri": "https://localhost:8080/"
        },
        "id": "B11cM9jlkxtU",
        "outputId": "cb627e38-7468-4d51-b1e0-c8dcfb42e97f"
      },
      "source": [
        "eigvals2, eigvecs2 = la.eig(B2)\n",
        "print('Eigenvalores B2')\n",
        "print(np.round(eigvals2,2))\n",
        "print('Eigenvectores B2')\n",
        "print(np.round(eigvecs2,2))\n"
      ],
      "execution_count": 38,
      "outputs": [
        {
          "output_type": "stream",
          "text": [
            "Eigenvalores B2\n",
            "[-0.5+0.87j -0.5-0.87j  1. +0.j  ]\n",
            "Eigenvectores B2\n",
            "[[ 0.58+0.j   0.58-0.j  -0.58+0.j ]\n",
            " [-0.29+0.5j -0.29-0.5j -0.58+0.j ]\n",
            " [-0.29-0.5j -0.29+0.5j -0.58+0.j ]]\n"
          ],
          "name": "stdout"
        }
      ]
    },
    {
      "cell_type": "code",
      "metadata": {
        "colab": {
          "base_uri": "https://localhost:8080/"
        },
        "id": "AMwehqAHk6N-",
        "outputId": "5ae3d8d0-467f-4159-a63b-df592e40bfe5"
      },
      "source": [
        "eigvals3, eigvecs3 = la.eig(B3)\n",
        "print('Eigenvalores B3')\n",
        "print(np.round(eigvals3,2))\n",
        "print('Eigenvectores B3')\n",
        "print(np.round(eigvecs3,2))"
      ],
      "execution_count": 39,
      "outputs": [
        {
          "output_type": "stream",
          "text": [
            "Eigenvalores B3\n",
            "[3.+0.j 3.+0.j 2.+0.j 2.+0.j]\n",
            "Eigenvectores B3\n",
            "[[ 0.    0.    0.    0.  ]\n",
            " [ 0.    0.    0.58 -0.58]\n",
            " [ 0.    0.   -0.58  0.58]\n",
            " [ 1.   -1.    0.58 -0.58]]\n"
          ],
          "name": "stdout"
        }
      ]
    },
    {
      "cell_type": "markdown",
      "metadata": {
        "id": "4y74DwMAmMBR"
      },
      "source": [
        "# Ejercicio 5"
      ]
    },
    {
      "cell_type": "code",
      "metadata": {
        "colab": {
          "base_uri": "https://localhost:8080/"
        },
        "id": "h-Msl_hOcSZI",
        "outputId": "b1870d52-b699-48a2-e730-595c89151b31"
      },
      "source": [
        "x = np.array([0,0.5,1,1.5,2,2.5,3,3.5])\n",
        "y = np.array([0,0.47942,0.84147,0.99749,0.90930,0.59847,0.14112,-0.35078]).reshape(8,1)\n",
        "\n",
        "X = np.column_stack([x**k for k in range(0,8)])\n",
        "\n",
        "a = la.solve(X,y)\n",
        "print(a)"
      ],
      "execution_count": 41,
      "outputs": [
        {
          "output_type": "stream",
          "text": [
            "[[ 0.00000000e+00]\n",
            " [ 1.00067181e+00]\n",
            " [-3.70788889e-03]\n",
            " [-1.58867889e-01]\n",
            " [-8.30222222e-03]\n",
            " [ 1.31964444e-02]\n",
            " [-1.54488889e-03]\n",
            " [ 2.46349206e-05]]\n"
          ],
          "name": "stdout"
        }
      ]
    },
    {
      "cell_type": "code",
      "metadata": {
        "colab": {
          "base_uri": "https://localhost:8080/",
          "height": 295
        },
        "id": "_44H-oFzcXO5",
        "outputId": "73d0dc8a-c540-44c2-e0d9-7697aff61f6a"
      },
      "source": [
        "\n",
        "xs = np.linspace(-2,6,200)\n",
        "ys = sum([a[k]*xs**k for k in range(0,8)])\n",
        "ysin = np.sin(xs)\n",
        "\n",
        "plt.plot(x,y,'r.',xs,ys)\n",
        "plt.plot(xs, ysin, 'green')\n",
        "plt.grid()\n",
        "plt.title('Polinomio interpolante p(x)')\n",
        "plt.xlabel('x')\n",
        "plt.ylabel('y')\n",
        "plt.show()"
      ],
      "execution_count": 42,
      "outputs": [
        {
          "output_type": "display_data",
          "data": {
            "image/png": "[encoded data removed]",
            "text/plain": [
              "<Figure size 432x288 with 1 Axes>"
            ]
          },
          "metadata": {
            "tags": [],
            "needs_background": "light"
          }
        }
      ]
    },
    {
      "cell_type": "code",
      "metadata": {
        "id": "bByOALJ8caFx"
      },
      "source": [
        ""
      ],
      "execution_count": null,
      "outputs": []
    }
  ]
}