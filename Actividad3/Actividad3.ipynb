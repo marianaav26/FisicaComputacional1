{
  "nbformat": 4,
  "nbformat_minor": 0,
  "metadata": {
    "colab": {
      "name": "Actividad3.ipynb",
      "provenance": []
    },
    "kernelspec": {
      "name": "python3",
      "display_name": "Python 3"
    },
    "language_info": {
      "name": "python"
    }
  },
  "cells": [
    {
      "cell_type": "code",
      "metadata": {
        "colab": {
          "base_uri": "https://localhost:8080/"
        },
        "id": "AeHygry8tHs3",
        "outputId": "aeab3eef-d57c-4455-bee1-569a578c22c4"
      },
      "source": [
        "#Importamos las bibliotecas necesarias para la actividad \n",
        "import numpy as np \n",
        "import pandas as pd \n",
        "\n",
        "#Se crea una variable donde estan los datos a utilizar\n",
        "url = \"https://raw.githubusercontent.com/marianaav26/FisicaComputacional1/main/Actividad1/diarios.txt\"\n",
        "\n",
        "\n",
        "#Se crea un DataFrame de los datos que tiene el url \n",
        "df_diarios = pd.read_csv(url)\n",
        "\n",
        "\n",
        "#Se imprime el encabezado y el final para tener una nocion de los reglones que hay\n",
        "print(df_diarios.head(20))\n",
        "print(df_diarios.tail())"
      ],
      "execution_count": 4,
      "outputs": [
        {
          "output_type": "stream",
          "text": [
            "                     CNA-SMN-CG-GMC-SMAA-CLIMATOLOGIA\n",
            "0                         BASE DE DATOS CLIMATOLOGICA\n",
            "1   DATOS DISPONIBLES EN LA BASE DE DATOS A MARZO ...\n",
            "2                                   ESTACION  : 26005\n",
            "3                                  NOMBRE    : ARIZPE\n",
            "4                                  ESTADO    : SONORA\n",
            "5                                  MUNICIPIO : ARIZPE\n",
            "6                                SITUACI�N : OPERANDO\n",
            "7                             ORGANISMO : CONAGUA-DGE\n",
            "8                                    CVE-OMM   : Nulo\n",
            "9                                LATITUD   : 030.336�\n",
            "10                              LONGITUD  : -110.168�\n",
            "11                               ALTITUD   : 836 msnm\n",
            "12                            EMISION   : 06/04/2020 \n",
            "13                         PRECIP  EVAP   TMAX   TMIN\n",
            "14                FECHA     (MM)   (MM)   (�C)   (�C)\n",
            "15               10/04/1961  0     Nulo    28    Nulo\n",
            "16               11/04/1961  0      6.4    28     14 \n",
            "17              12/04/1961  0      7.6    31     9.5 \n",
            "18              13/04/1961  0      11     30     8.5 \n",
            "19                14/04/1961  0      8.7    30     7 \n",
            "             CNA-SMN-CG-GMC-SMAA-CLIMATOLOGIA\n",
            "15512     28/03/2016  0     Nulo    24     4 \n",
            "15513     29/03/2016  0     Nulo    20     0 \n",
            "15514     30/03/2016  0     Nulo    19     2 \n",
            "15515     31/03/2016  0     Nulo   Nulo    0 \n",
            "15516  --------------------------------------\n"
          ],
          "name": "stdout"
        }
      ]
    },
    {
      "cell_type": "code",
      "metadata": {
        "colab": {
          "base_uri": "https://localhost:8080/"
        },
        "id": "ph7gnlyZdamt",
        "outputId": "fd26e43b-5d4b-48a4-dcbd-4aec2fd04205"
      },
      "source": [
        "url = \"https://raw.githubusercontent.com/marianaav26/FisicaComputacional1/main/Actividad1/diarios.txt\"\n",
        "#Se asigna nombres a las columnas\n",
        "columnas = ['Fecha', 'Precip', 'Evap', 'Tmax', 'Tmin']\n",
        "\n",
        "#Se realizan varias instrucciones, sep='\\s+' para separar datos de uno o mas espacios\n",
        "#skinprows para saltar los primeros 19 renglones y el ultimo, header=none sin encabezado\n",
        "#Se procesan los datos utilizando python con engine='python'\n",
        "df_diarios = pd.read_csv(url, names=columnas, encoding='cp1251', sep='\\s+', header=None, skiprows=19, skipfooter=1, engine='python')\n",
        "\n",
        "print(df_diarios.head())\n",
        "print(df_diarios.tail())"
      ],
      "execution_count": 5,
      "outputs": [
        {
          "output_type": "stream",
          "text": [
            "        Fecha Precip  Evap Tmax  Tmin\n",
            "0  10/04/1961      0  Nulo   28  Nulo\n",
            "1  11/04/1961      0   6.4   28    14\n",
            "2  12/04/1961      0   7.6   31   9.5\n",
            "3  13/04/1961      0    11   30   8.5\n",
            "4  14/04/1961      0   8.7   30     7\n",
            "            Fecha Precip  Evap  Tmax Tmin\n",
            "15496  27/03/2016      0  Nulo    26    4\n",
            "15497  28/03/2016      0  Nulo    24    4\n",
            "15498  29/03/2016      0  Nulo    20    0\n",
            "15499  30/03/2016      0  Nulo    19    2\n",
            "15500  31/03/2016      0  Nulo  Nulo    0\n"
          ],
          "name": "stdout"
        }
      ]
    },
    {
      "cell_type": "code",
      "metadata": {
        "colab": {
          "base_uri": "https://localhost:8080/"
        },
        "id": "e0BgkyO9d5eC",
        "outputId": "28cea142-f265-4160-e03a-ac092665da65"
      },
      "source": [
        "#Se observa la dimension e informacion de los datos \n",
        "df_diarios.shape\n",
        "df_diarios.info()"
      ],
      "execution_count": 6,
      "outputs": [
        {
          "output_type": "stream",
          "text": [
            "<class 'pandas.core.frame.DataFrame'>\n",
            "RangeIndex: 15501 entries, 0 to 15500\n",
            "Data columns (total 5 columns):\n",
            " #   Column  Non-Null Count  Dtype \n",
            "---  ------  --------------  ----- \n",
            " 0   Fecha   15501 non-null  object\n",
            " 1   Precip  15501 non-null  object\n",
            " 2   Evap    15501 non-null  object\n",
            " 3   Tmax    15501 non-null  object\n",
            " 4   Tmin    15501 non-null  object\n",
            "dtypes: object(5)\n",
            "memory usage: 605.6+ KB\n"
          ],
          "name": "stdout"
        }
      ]
    },
    {
      "cell_type": "code",
      "metadata": {
        "colab": {
          "base_uri": "https://localhost:8080/",
          "height": 204
        },
        "id": "ZCu5qVYqd9kb",
        "outputId": "c5218d35-6511-460d-deee-f4c36bcbed59"
      },
      "source": [
        "#Se realiza una copia de la base de datos \n",
        "df_copia=df_diarios.copy()\n",
        "df_copia.head()"
      ],
      "execution_count": 7,
      "outputs": [
        {
          "output_type": "execute_result",
          "data": {
            "text/html": [
              "<div>\n",
              "<style scoped>\n",
              "    .dataframe tbody tr th:only-of-type {\n",
              "        vertical-align: middle;\n",
              "    }\n",
              "\n",
              "    .dataframe tbody tr th {\n",
              "        vertical-align: top;\n",
              "    }\n",
              "\n",
              "    .dataframe thead th {\n",
              "        text-align: right;\n",
              "    }\n",
              "</style>\n",
              "<table border=\"1\" class=\"dataframe\">\n",
              "  <thead>\n",
              "    <tr style=\"text-align: right;\">\n",
              "      <th></th>\n",
              "      <th>Fecha</th>\n",
              "      <th>Precip</th>\n",
              "      <th>Evap</th>\n",
              "      <th>Tmax</th>\n",
              "      <th>Tmin</th>\n",
              "    </tr>\n",
              "  </thead>\n",
              "  <tbody>\n",
              "    <tr>\n",
              "      <th>0</th>\n",
              "      <td>10/04/1961</td>\n",
              "      <td>0</td>\n",
              "      <td>Nulo</td>\n",
              "      <td>28</td>\n",
              "      <td>Nulo</td>\n",
              "    </tr>\n",
              "    <tr>\n",
              "      <th>1</th>\n",
              "      <td>11/04/1961</td>\n",
              "      <td>0</td>\n",
              "      <td>6.4</td>\n",
              "      <td>28</td>\n",
              "      <td>14</td>\n",
              "    </tr>\n",
              "    <tr>\n",
              "      <th>2</th>\n",
              "      <td>12/04/1961</td>\n",
              "      <td>0</td>\n",
              "      <td>7.6</td>\n",
              "      <td>31</td>\n",
              "      <td>9.5</td>\n",
              "    </tr>\n",
              "    <tr>\n",
              "      <th>3</th>\n",
              "      <td>13/04/1961</td>\n",
              "      <td>0</td>\n",
              "      <td>11</td>\n",
              "      <td>30</td>\n",
              "      <td>8.5</td>\n",
              "    </tr>\n",
              "    <tr>\n",
              "      <th>4</th>\n",
              "      <td>14/04/1961</td>\n",
              "      <td>0</td>\n",
              "      <td>8.7</td>\n",
              "      <td>30</td>\n",
              "      <td>7</td>\n",
              "    </tr>\n",
              "  </tbody>\n",
              "</table>\n",
              "</div>"
            ],
            "text/plain": [
              "        Fecha Precip  Evap Tmax  Tmin\n",
              "0  10/04/1961      0  Nulo   28  Nulo\n",
              "1  11/04/1961      0   6.4   28    14\n",
              "2  12/04/1961      0   7.6   31   9.5\n",
              "3  13/04/1961      0    11   30   8.5\n",
              "4  14/04/1961      0   8.7   30     7"
            ]
          },
          "metadata": {
            "tags": []
          },
          "execution_count": 7
        }
      ]
    },
    {
      "cell_type": "code",
      "metadata": {
        "colab": {
          "base_uri": "https://localhost:8080/",
          "height": 204
        },
        "id": "4IDPtwQWeBpl",
        "outputId": "f4e99e5c-999b-4424-c737-883d7e4c6251"
      },
      "source": [
        "#Se sustituyen los Nulo por espacios en blanco\n",
        "str_Nulo = 'Nulo'\n",
        "df_copia = df_copia.replace(to_replace=str_Nulo, value='', regex=True)\n",
        "df_copia.head()"
      ],
      "execution_count": 8,
      "outputs": [
        {
          "output_type": "execute_result",
          "data": {
            "text/html": [
              "<div>\n",
              "<style scoped>\n",
              "    .dataframe tbody tr th:only-of-type {\n",
              "        vertical-align: middle;\n",
              "    }\n",
              "\n",
              "    .dataframe tbody tr th {\n",
              "        vertical-align: top;\n",
              "    }\n",
              "\n",
              "    .dataframe thead th {\n",
              "        text-align: right;\n",
              "    }\n",
              "</style>\n",
              "<table border=\"1\" class=\"dataframe\">\n",
              "  <thead>\n",
              "    <tr style=\"text-align: right;\">\n",
              "      <th></th>\n",
              "      <th>Fecha</th>\n",
              "      <th>Precip</th>\n",
              "      <th>Evap</th>\n",
              "      <th>Tmax</th>\n",
              "      <th>Tmin</th>\n",
              "    </tr>\n",
              "  </thead>\n",
              "  <tbody>\n",
              "    <tr>\n",
              "      <th>0</th>\n",
              "      <td>10/04/1961</td>\n",
              "      <td>0</td>\n",
              "      <td></td>\n",
              "      <td>28</td>\n",
              "      <td></td>\n",
              "    </tr>\n",
              "    <tr>\n",
              "      <th>1</th>\n",
              "      <td>11/04/1961</td>\n",
              "      <td>0</td>\n",
              "      <td>6.4</td>\n",
              "      <td>28</td>\n",
              "      <td>14</td>\n",
              "    </tr>\n",
              "    <tr>\n",
              "      <th>2</th>\n",
              "      <td>12/04/1961</td>\n",
              "      <td>0</td>\n",
              "      <td>7.6</td>\n",
              "      <td>31</td>\n",
              "      <td>9.5</td>\n",
              "    </tr>\n",
              "    <tr>\n",
              "      <th>3</th>\n",
              "      <td>13/04/1961</td>\n",
              "      <td>0</td>\n",
              "      <td>11</td>\n",
              "      <td>30</td>\n",
              "      <td>8.5</td>\n",
              "    </tr>\n",
              "    <tr>\n",
              "      <th>4</th>\n",
              "      <td>14/04/1961</td>\n",
              "      <td>0</td>\n",
              "      <td>8.7</td>\n",
              "      <td>30</td>\n",
              "      <td>7</td>\n",
              "    </tr>\n",
              "  </tbody>\n",
              "</table>\n",
              "</div>"
            ],
            "text/plain": [
              "        Fecha Precip Evap Tmax Tmin\n",
              "0  10/04/1961      0        28     \n",
              "1  11/04/1961      0  6.4   28   14\n",
              "2  12/04/1961      0  7.6   31  9.5\n",
              "3  13/04/1961      0   11   30  8.5\n",
              "4  14/04/1961      0  8.7   30    7"
            ]
          },
          "metadata": {
            "tags": []
          },
          "execution_count": 8
        }
      ]
    },
    {
      "cell_type": "code",
      "metadata": {
        "colab": {
          "base_uri": "https://localhost:8080/"
        },
        "id": "nym2c9T8eh8h",
        "outputId": "52099c3f-267d-4b21-c5a3-1e9f6719b884"
      },
      "source": [
        "#Imprimimos en pantalla la informacion actualizada \n",
        "df_copia.info()\n",
        "print(df_copia.head())"
      ],
      "execution_count": 9,
      "outputs": [
        {
          "output_type": "stream",
          "text": [
            "<class 'pandas.core.frame.DataFrame'>\n",
            "RangeIndex: 15501 entries, 0 to 15500\n",
            "Data columns (total 5 columns):\n",
            " #   Column  Non-Null Count  Dtype \n",
            "---  ------  --------------  ----- \n",
            " 0   Fecha   15501 non-null  object\n",
            " 1   Precip  15501 non-null  object\n",
            " 2   Evap    15501 non-null  object\n",
            " 3   Tmax    15501 non-null  object\n",
            " 4   Tmin    15501 non-null  object\n",
            "dtypes: object(5)\n",
            "memory usage: 605.6+ KB\n",
            "        Fecha Precip Evap Tmax Tmin\n",
            "0  10/04/1961      0        28     \n",
            "1  11/04/1961      0  6.4   28   14\n",
            "2  12/04/1961      0  7.6   31  9.5\n",
            "3  13/04/1961      0   11   30  8.5\n",
            "4  14/04/1961      0  8.7   30    7\n"
          ],
          "name": "stdout"
        }
      ]
    },
    {
      "cell_type": "code",
      "metadata": {
        "colab": {
          "base_uri": "https://localhost:8080/"
        },
        "id": "E0M-5eweelZC",
        "outputId": "e32b9b54-0df4-4889-95d1-e54c0ae237ae"
      },
      "source": [
        "#Convertimos los datos a valores numericos \n",
        "columnas = ['Precip', 'Evap', 'Tmax', 'Tmin']\n",
        "for cols in columnas:\n",
        "  df_copia[cols] = pd.to_numeric(df_copia[cols], errors=\"coerce\")\n",
        "\n",
        "df_copia.info()"
      ],
      "execution_count": 10,
      "outputs": [
        {
          "output_type": "stream",
          "text": [
            "<class 'pandas.core.frame.DataFrame'>\n",
            "RangeIndex: 15501 entries, 0 to 15500\n",
            "Data columns (total 5 columns):\n",
            " #   Column  Non-Null Count  Dtype  \n",
            "---  ------  --------------  -----  \n",
            " 0   Fecha   15501 non-null  object \n",
            " 1   Precip  15485 non-null  float64\n",
            " 2   Evap    8623 non-null   float64\n",
            " 3   Tmax    15104 non-null  float64\n",
            " 4   Tmin    15106 non-null  float64\n",
            "dtypes: float64(4), object(1)\n",
            "memory usage: 605.6+ KB\n"
          ],
          "name": "stdout"
        }
      ]
    },
    {
      "cell_type": "code",
      "metadata": {
        "colab": {
          "base_uri": "https://localhost:8080/"
        },
        "id": "6C-OarApfEpO",
        "outputId": "65a8ddc0-7206-432c-9410-00e5b64932b6"
      },
      "source": [
        "#Se muestran los datos que faltan \n",
        "df_copia.isnull().sum()"
      ],
      "execution_count": 11,
      "outputs": [
        {
          "output_type": "execute_result",
          "data": {
            "text/plain": [
              "Fecha        0\n",
              "Precip      16\n",
              "Evap      6878\n",
              "Tmax       397\n",
              "Tmin       395\n",
              "dtype: int64"
            ]
          },
          "metadata": {
            "tags": []
          },
          "execution_count": 11
        }
      ]
    },
    {
      "cell_type": "code",
      "metadata": {
        "colab": {
          "base_uri": "https://localhost:8080/"
        },
        "id": "ngKtchrhfIZN",
        "outputId": "2f6f0cab-8d89-45c1-fffb-9bb555bbcb9a"
      },
      "source": [
        "#Se imprimen los primeros 5 renglones\n",
        "print(df_copia.head())"
      ],
      "execution_count": 12,
      "outputs": [
        {
          "output_type": "stream",
          "text": [
            "        Fecha  Precip  Evap  Tmax  Tmin\n",
            "0  10/04/1961     0.0   NaN  28.0   NaN\n",
            "1  11/04/1961     0.0   6.4  28.0  14.0\n",
            "2  12/04/1961     0.0   7.6  31.0   9.5\n",
            "3  13/04/1961     0.0  11.0  30.0   8.5\n",
            "4  14/04/1961     0.0   8.7  30.0   7.0\n"
          ],
          "name": "stdout"
        }
      ]
    },
    {
      "cell_type": "code",
      "metadata": {
        "colab": {
          "base_uri": "https://localhost:8080/",
          "height": 297
        },
        "id": "FcFMidDkfLy1",
        "outputId": "f78d3351-62f8-4775-9d7a-32706003d97f"
      },
      "source": [
        "#Se redondean los valores a las primeras 2 cifras \n",
        "df_copia.describe().round(2)"
      ],
      "execution_count": 13,
      "outputs": [
        {
          "output_type": "execute_result",
          "data": {
            "text/html": [
              "<div>\n",
              "<style scoped>\n",
              "    .dataframe tbody tr th:only-of-type {\n",
              "        vertical-align: middle;\n",
              "    }\n",
              "\n",
              "    .dataframe tbody tr th {\n",
              "        vertical-align: top;\n",
              "    }\n",
              "\n",
              "    .dataframe thead th {\n",
              "        text-align: right;\n",
              "    }\n",
              "</style>\n",
              "<table border=\"1\" class=\"dataframe\">\n",
              "  <thead>\n",
              "    <tr style=\"text-align: right;\">\n",
              "      <th></th>\n",
              "      <th>Precip</th>\n",
              "      <th>Evap</th>\n",
              "      <th>Tmax</th>\n",
              "      <th>Tmin</th>\n",
              "    </tr>\n",
              "  </thead>\n",
              "  <tbody>\n",
              "    <tr>\n",
              "      <th>count</th>\n",
              "      <td>15485.00</td>\n",
              "      <td>8623.00</td>\n",
              "      <td>15104.00</td>\n",
              "      <td>15106.00</td>\n",
              "    </tr>\n",
              "    <tr>\n",
              "      <th>mean</th>\n",
              "      <td>1.24</td>\n",
              "      <td>6.09</td>\n",
              "      <td>28.91</td>\n",
              "      <td>10.04</td>\n",
              "    </tr>\n",
              "    <tr>\n",
              "      <th>std</th>\n",
              "      <td>5.17</td>\n",
              "      <td>3.03</td>\n",
              "      <td>7.39</td>\n",
              "      <td>6.92</td>\n",
              "    </tr>\n",
              "    <tr>\n",
              "      <th>min</th>\n",
              "      <td>0.00</td>\n",
              "      <td>0.10</td>\n",
              "      <td>-1.00</td>\n",
              "      <td>-12.00</td>\n",
              "    </tr>\n",
              "    <tr>\n",
              "      <th>25%</th>\n",
              "      <td>0.00</td>\n",
              "      <td>3.60</td>\n",
              "      <td>23.00</td>\n",
              "      <td>4.50</td>\n",
              "    </tr>\n",
              "    <tr>\n",
              "      <th>50%</th>\n",
              "      <td>0.00</td>\n",
              "      <td>5.80</td>\n",
              "      <td>30.00</td>\n",
              "      <td>9.00</td>\n",
              "    </tr>\n",
              "    <tr>\n",
              "      <th>75%</th>\n",
              "      <td>0.00</td>\n",
              "      <td>8.10</td>\n",
              "      <td>34.50</td>\n",
              "      <td>16.00</td>\n",
              "    </tr>\n",
              "    <tr>\n",
              "      <th>max</th>\n",
              "      <td>87.50</td>\n",
              "      <td>17.50</td>\n",
              "      <td>48.00</td>\n",
              "      <td>35.00</td>\n",
              "    </tr>\n",
              "  </tbody>\n",
              "</table>\n",
              "</div>"
            ],
            "text/plain": [
              "         Precip     Evap      Tmax      Tmin\n",
              "count  15485.00  8623.00  15104.00  15106.00\n",
              "mean       1.24     6.09     28.91     10.04\n",
              "std        5.17     3.03      7.39      6.92\n",
              "min        0.00     0.10     -1.00    -12.00\n",
              "25%        0.00     3.60     23.00      4.50\n",
              "50%        0.00     5.80     30.00      9.00\n",
              "75%        0.00     8.10     34.50     16.00\n",
              "max       87.50    17.50     48.00     35.00"
            ]
          },
          "metadata": {
            "tags": []
          },
          "execution_count": 13
        }
      ]
    },
    {
      "cell_type": "code",
      "metadata": {
        "colab": {
          "base_uri": "https://localhost:8080/",
          "height": 419
        },
        "id": "USfe4oggf6C5",
        "outputId": "cb531f08-8ea9-4b4c-ed64-97dd3bd4667a"
      },
      "source": [
        "#Se realiza otra copia de seguridad \n",
        "df_copiaseguridad = df_copia.copy()\n",
        "df_copiaseguridad"
      ],
      "execution_count": 14,
      "outputs": [
        {
          "output_type": "execute_result",
          "data": {
            "text/html": [
              "<div>\n",
              "<style scoped>\n",
              "    .dataframe tbody tr th:only-of-type {\n",
              "        vertical-align: middle;\n",
              "    }\n",
              "\n",
              "    .dataframe tbody tr th {\n",
              "        vertical-align: top;\n",
              "    }\n",
              "\n",
              "    .dataframe thead th {\n",
              "        text-align: right;\n",
              "    }\n",
              "</style>\n",
              "<table border=\"1\" class=\"dataframe\">\n",
              "  <thead>\n",
              "    <tr style=\"text-align: right;\">\n",
              "      <th></th>\n",
              "      <th>Fecha</th>\n",
              "      <th>Precip</th>\n",
              "      <th>Evap</th>\n",
              "      <th>Tmax</th>\n",
              "      <th>Tmin</th>\n",
              "    </tr>\n",
              "  </thead>\n",
              "  <tbody>\n",
              "    <tr>\n",
              "      <th>0</th>\n",
              "      <td>10/04/1961</td>\n",
              "      <td>0.0</td>\n",
              "      <td>NaN</td>\n",
              "      <td>28.0</td>\n",
              "      <td>NaN</td>\n",
              "    </tr>\n",
              "    <tr>\n",
              "      <th>1</th>\n",
              "      <td>11/04/1961</td>\n",
              "      <td>0.0</td>\n",
              "      <td>6.4</td>\n",
              "      <td>28.0</td>\n",
              "      <td>14.0</td>\n",
              "    </tr>\n",
              "    <tr>\n",
              "      <th>2</th>\n",
              "      <td>12/04/1961</td>\n",
              "      <td>0.0</td>\n",
              "      <td>7.6</td>\n",
              "      <td>31.0</td>\n",
              "      <td>9.5</td>\n",
              "    </tr>\n",
              "    <tr>\n",
              "      <th>3</th>\n",
              "      <td>13/04/1961</td>\n",
              "      <td>0.0</td>\n",
              "      <td>11.0</td>\n",
              "      <td>30.0</td>\n",
              "      <td>8.5</td>\n",
              "    </tr>\n",
              "    <tr>\n",
              "      <th>4</th>\n",
              "      <td>14/04/1961</td>\n",
              "      <td>0.0</td>\n",
              "      <td>8.7</td>\n",
              "      <td>30.0</td>\n",
              "      <td>7.0</td>\n",
              "    </tr>\n",
              "    <tr>\n",
              "      <th>...</th>\n",
              "      <td>...</td>\n",
              "      <td>...</td>\n",
              "      <td>...</td>\n",
              "      <td>...</td>\n",
              "      <td>...</td>\n",
              "    </tr>\n",
              "    <tr>\n",
              "      <th>15496</th>\n",
              "      <td>27/03/2016</td>\n",
              "      <td>0.0</td>\n",
              "      <td>NaN</td>\n",
              "      <td>26.0</td>\n",
              "      <td>4.0</td>\n",
              "    </tr>\n",
              "    <tr>\n",
              "      <th>15497</th>\n",
              "      <td>28/03/2016</td>\n",
              "      <td>0.0</td>\n",
              "      <td>NaN</td>\n",
              "      <td>24.0</td>\n",
              "      <td>4.0</td>\n",
              "    </tr>\n",
              "    <tr>\n",
              "      <th>15498</th>\n",
              "      <td>29/03/2016</td>\n",
              "      <td>0.0</td>\n",
              "      <td>NaN</td>\n",
              "      <td>20.0</td>\n",
              "      <td>0.0</td>\n",
              "    </tr>\n",
              "    <tr>\n",
              "      <th>15499</th>\n",
              "      <td>30/03/2016</td>\n",
              "      <td>0.0</td>\n",
              "      <td>NaN</td>\n",
              "      <td>19.0</td>\n",
              "      <td>2.0</td>\n",
              "    </tr>\n",
              "    <tr>\n",
              "      <th>15500</th>\n",
              "      <td>31/03/2016</td>\n",
              "      <td>0.0</td>\n",
              "      <td>NaN</td>\n",
              "      <td>NaN</td>\n",
              "      <td>0.0</td>\n",
              "    </tr>\n",
              "  </tbody>\n",
              "</table>\n",
              "<p>15501 rows × 5 columns</p>\n",
              "</div>"
            ],
            "text/plain": [
              "            Fecha  Precip  Evap  Tmax  Tmin\n",
              "0      10/04/1961     0.0   NaN  28.0   NaN\n",
              "1      11/04/1961     0.0   6.4  28.0  14.0\n",
              "2      12/04/1961     0.0   7.6  31.0   9.5\n",
              "3      13/04/1961     0.0  11.0  30.0   8.5\n",
              "4      14/04/1961     0.0   8.7  30.0   7.0\n",
              "...           ...     ...   ...   ...   ...\n",
              "15496  27/03/2016     0.0   NaN  26.0   4.0\n",
              "15497  28/03/2016     0.0   NaN  24.0   4.0\n",
              "15498  29/03/2016     0.0   NaN  20.0   0.0\n",
              "15499  30/03/2016     0.0   NaN  19.0   2.0\n",
              "15500  31/03/2016     0.0   NaN   NaN   0.0\n",
              "\n",
              "[15501 rows x 5 columns]"
            ]
          },
          "metadata": {
            "tags": []
          },
          "execution_count": 14
        }
      ]
    },
    {
      "cell_type": "code",
      "metadata": {
        "colab": {
          "base_uri": "https://localhost:8080/"
        },
        "id": "VnQkjPXJf-Nl",
        "outputId": "668c6650-ac80-435b-e834-bdeb583715a1"
      },
      "source": [
        "#Se cambia el formato de fecha a año/mes/dia \n",
        "df_copiaseguridad[\"Fecha\"] = pd.to_datetime(df_copiaseguridad[\"Fecha\"], dayfirst=True ).copy()\n",
        "print(df_copiaseguridad.head())"
      ],
      "execution_count": 15,
      "outputs": [
        {
          "output_type": "stream",
          "text": [
            "       Fecha  Precip  Evap  Tmax  Tmin\n",
            "0 1961-04-10     0.0   NaN  28.0   NaN\n",
            "1 1961-04-11     0.0   6.4  28.0  14.0\n",
            "2 1961-04-12     0.0   7.6  31.0   9.5\n",
            "3 1961-04-13     0.0  11.0  30.0   8.5\n",
            "4 1961-04-14     0.0   8.7  30.0   7.0\n"
          ],
          "name": "stdout"
        }
      ]
    },
    {
      "cell_type": "code",
      "metadata": {
        "colab": {
          "base_uri": "https://localhost:8080/",
          "height": 419
        },
        "id": "pWkTjG3pgMdK",
        "outputId": "9b9c683f-836b-4373-f7ee-cb2b8ac2a68a"
      },
      "source": [
        "#Se agregan las columnas de año y mes \n",
        "df_copiaseguridad[\"Año\"] = df_copiaseguridad[\"Fecha\"].dt.year\n",
        "df_copiaseguridad[\"Mes\"] = df_copiaseguridad[\"Fecha\"].dt.month\n",
        "df_copiaseguridad"
      ],
      "execution_count": 16,
      "outputs": [
        {
          "output_type": "execute_result",
          "data": {
            "text/html": [
              "<div>\n",
              "<style scoped>\n",
              "    .dataframe tbody tr th:only-of-type {\n",
              "        vertical-align: middle;\n",
              "    }\n",
              "\n",
              "    .dataframe tbody tr th {\n",
              "        vertical-align: top;\n",
              "    }\n",
              "\n",
              "    .dataframe thead th {\n",
              "        text-align: right;\n",
              "    }\n",
              "</style>\n",
              "<table border=\"1\" class=\"dataframe\">\n",
              "  <thead>\n",
              "    <tr style=\"text-align: right;\">\n",
              "      <th></th>\n",
              "      <th>Fecha</th>\n",
              "      <th>Precip</th>\n",
              "      <th>Evap</th>\n",
              "      <th>Tmax</th>\n",
              "      <th>Tmin</th>\n",
              "      <th>Año</th>\n",
              "      <th>Mes</th>\n",
              "    </tr>\n",
              "  </thead>\n",
              "  <tbody>\n",
              "    <tr>\n",
              "      <th>0</th>\n",
              "      <td>1961-04-10</td>\n",
              "      <td>0.0</td>\n",
              "      <td>NaN</td>\n",
              "      <td>28.0</td>\n",
              "      <td>NaN</td>\n",
              "      <td>1961</td>\n",
              "      <td>4</td>\n",
              "    </tr>\n",
              "    <tr>\n",
              "      <th>1</th>\n",
              "      <td>1961-04-11</td>\n",
              "      <td>0.0</td>\n",
              "      <td>6.4</td>\n",
              "      <td>28.0</td>\n",
              "      <td>14.0</td>\n",
              "      <td>1961</td>\n",
              "      <td>4</td>\n",
              "    </tr>\n",
              "    <tr>\n",
              "      <th>2</th>\n",
              "      <td>1961-04-12</td>\n",
              "      <td>0.0</td>\n",
              "      <td>7.6</td>\n",
              "      <td>31.0</td>\n",
              "      <td>9.5</td>\n",
              "      <td>1961</td>\n",
              "      <td>4</td>\n",
              "    </tr>\n",
              "    <tr>\n",
              "      <th>3</th>\n",
              "      <td>1961-04-13</td>\n",
              "      <td>0.0</td>\n",
              "      <td>11.0</td>\n",
              "      <td>30.0</td>\n",
              "      <td>8.5</td>\n",
              "      <td>1961</td>\n",
              "      <td>4</td>\n",
              "    </tr>\n",
              "    <tr>\n",
              "      <th>4</th>\n",
              "      <td>1961-04-14</td>\n",
              "      <td>0.0</td>\n",
              "      <td>8.7</td>\n",
              "      <td>30.0</td>\n",
              "      <td>7.0</td>\n",
              "      <td>1961</td>\n",
              "      <td>4</td>\n",
              "    </tr>\n",
              "    <tr>\n",
              "      <th>...</th>\n",
              "      <td>...</td>\n",
              "      <td>...</td>\n",
              "      <td>...</td>\n",
              "      <td>...</td>\n",
              "      <td>...</td>\n",
              "      <td>...</td>\n",
              "      <td>...</td>\n",
              "    </tr>\n",
              "    <tr>\n",
              "      <th>15496</th>\n",
              "      <td>2016-03-27</td>\n",
              "      <td>0.0</td>\n",
              "      <td>NaN</td>\n",
              "      <td>26.0</td>\n",
              "      <td>4.0</td>\n",
              "      <td>2016</td>\n",
              "      <td>3</td>\n",
              "    </tr>\n",
              "    <tr>\n",
              "      <th>15497</th>\n",
              "      <td>2016-03-28</td>\n",
              "      <td>0.0</td>\n",
              "      <td>NaN</td>\n",
              "      <td>24.0</td>\n",
              "      <td>4.0</td>\n",
              "      <td>2016</td>\n",
              "      <td>3</td>\n",
              "    </tr>\n",
              "    <tr>\n",
              "      <th>15498</th>\n",
              "      <td>2016-03-29</td>\n",
              "      <td>0.0</td>\n",
              "      <td>NaN</td>\n",
              "      <td>20.0</td>\n",
              "      <td>0.0</td>\n",
              "      <td>2016</td>\n",
              "      <td>3</td>\n",
              "    </tr>\n",
              "    <tr>\n",
              "      <th>15499</th>\n",
              "      <td>2016-03-30</td>\n",
              "      <td>0.0</td>\n",
              "      <td>NaN</td>\n",
              "      <td>19.0</td>\n",
              "      <td>2.0</td>\n",
              "      <td>2016</td>\n",
              "      <td>3</td>\n",
              "    </tr>\n",
              "    <tr>\n",
              "      <th>15500</th>\n",
              "      <td>2016-03-31</td>\n",
              "      <td>0.0</td>\n",
              "      <td>NaN</td>\n",
              "      <td>NaN</td>\n",
              "      <td>0.0</td>\n",
              "      <td>2016</td>\n",
              "      <td>3</td>\n",
              "    </tr>\n",
              "  </tbody>\n",
              "</table>\n",
              "<p>15501 rows × 7 columns</p>\n",
              "</div>"
            ],
            "text/plain": [
              "           Fecha  Precip  Evap  Tmax  Tmin   Año  Mes\n",
              "0     1961-04-10     0.0   NaN  28.0   NaN  1961    4\n",
              "1     1961-04-11     0.0   6.4  28.0  14.0  1961    4\n",
              "2     1961-04-12     0.0   7.6  31.0   9.5  1961    4\n",
              "3     1961-04-13     0.0  11.0  30.0   8.5  1961    4\n",
              "4     1961-04-14     0.0   8.7  30.0   7.0  1961    4\n",
              "...          ...     ...   ...   ...   ...   ...  ...\n",
              "15496 2016-03-27     0.0   NaN  26.0   4.0  2016    3\n",
              "15497 2016-03-28     0.0   NaN  24.0   4.0  2016    3\n",
              "15498 2016-03-29     0.0   NaN  20.0   0.0  2016    3\n",
              "15499 2016-03-30     0.0   NaN  19.0   2.0  2016    3\n",
              "15500 2016-03-31     0.0   NaN   NaN   0.0  2016    3\n",
              "\n",
              "[15501 rows x 7 columns]"
            ]
          },
          "metadata": {
            "tags": []
          },
          "execution_count": 16
        }
      ]
    },
    {
      "cell_type": "code",
      "metadata": {
        "colab": {
          "base_uri": "https://localhost:8080/"
        },
        "id": "KC5djDGfgbpC",
        "outputId": "300d0424-2d96-477a-c05d-8d63c9951122"
      },
      "source": [
        "#Verificamos\n",
        "print(df_copiaseguridad.head())\n",
        "print(df_copiaseguridad.tail())\n",
        "print(df_copiaseguridad.dtypes)"
      ],
      "execution_count": 17,
      "outputs": [
        {
          "output_type": "stream",
          "text": [
            "       Fecha  Precip  Evap  Tmax  Tmin   Año  Mes\n",
            "0 1961-04-10     0.0   NaN  28.0   NaN  1961    4\n",
            "1 1961-04-11     0.0   6.4  28.0  14.0  1961    4\n",
            "2 1961-04-12     0.0   7.6  31.0   9.5  1961    4\n",
            "3 1961-04-13     0.0  11.0  30.0   8.5  1961    4\n",
            "4 1961-04-14     0.0   8.7  30.0   7.0  1961    4\n",
            "           Fecha  Precip  Evap  Tmax  Tmin   Año  Mes\n",
            "15496 2016-03-27     0.0   NaN  26.0   4.0  2016    3\n",
            "15497 2016-03-28     0.0   NaN  24.0   4.0  2016    3\n",
            "15498 2016-03-29     0.0   NaN  20.0   0.0  2016    3\n",
            "15499 2016-03-30     0.0   NaN  19.0   2.0  2016    3\n",
            "15500 2016-03-31     0.0   NaN   NaN   0.0  2016    3\n",
            "Fecha     datetime64[ns]\n",
            "Precip           float64\n",
            "Evap             float64\n",
            "Tmax             float64\n",
            "Tmin             float64\n",
            "Año                int64\n",
            "Mes                int64\n",
            "dtype: object\n"
          ],
          "name": "stdout"
        }
      ]
    },
    {
      "cell_type": "code",
      "metadata": {
        "id": "xRxbe2aZggq6"
      },
      "source": [
        ""
      ],
      "execution_count": null,
      "outputs": []
    }
  ]
}